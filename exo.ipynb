{
 "cells": [
  {
   "cell_type": "code",
   "execution_count": 8,
   "metadata": {},
   "outputs": [
    {
     "name": "stdout",
     "output_type": "stream",
     "text": [
      "20\n",
      "20\n",
      "160\n"
     ]
    }
   ],
   "source": [
    "# exercice 1\n",
    "\n",
    "class rectangle:\n",
    "  def __init__(self,largeur,hauteur):\n",
    "    self.hauteur=hauteur\n",
    "    self.largeur=largeur\n",
    "  \n",
    "  def getHauteur(self):\n",
    "    return self.hauteur\n",
    "\n",
    "  def getLargeur(self):\n",
    "    return self.largeur\n",
    "\n",
    "  def surface(self):\n",
    "    return self.hauteur*self.largeur\n",
    "\n",
    "  def permimetre(self):\n",
    "    return (self.hauteur+self.largeur) * 2\n",
    "\n",
    "class Parallélépipède(rectangle):\n",
    "    def __init__(self,largeur,hauteur,profondeur):\n",
    "        rectangle.__init__(self,largeur, hauteur)\n",
    "        self.profondeur=profondeur\n",
    "        \n",
    "    def volume(self):\n",
    "        return rectangle.surface(self)*self.profondeur\n",
    "\n",
    "    \n",
    "rect = rectangle(4,5)\n",
    "print(rect.surface())\n",
    "\n",
    "para = Parallélépipède(4,5,8)\n",
    "print(para.surface())\n",
    "print(para.volume())"
   ]
  },
  {
   "cell_type": "code",
   "execution_count": 13,
   "metadata": {},
   "outputs": [
    {
     "name": "stdout",
     "output_type": "stream",
     "text": [
      "x  = 1\n",
      "y = 2\n",
      "x  = 3\n",
      "y = 2\n",
      "x  = 4\n",
      "y = 4\n"
     ]
    }
   ],
   "source": [
    "# exercice 2\n",
    "\n",
    "class Vecteur2D:\n",
    "        def __init__(self,x=0,y=0):\n",
    "            self.x=x\n",
    "            self.y=y\n",
    "           \n",
    "        def affichage(self):\n",
    "            print(f\"x  = {self.x}\")\n",
    "            print (f\"y = {self.y}\")\n",
    "            \n",
    "        def surcharge(self, other):\n",
    "            return Vecteur2D(self.x + other.x, self.y + other.y)\n",
    "        \n",
    "vec1 = Vecteur2D(1,2)\n",
    "vec2 = Vecteur2D(3,2)\n",
    "vec1.affichage()\n",
    "vec2.affichage()\n",
    "vec1.surcharge(vec2).affichage()\n",
    "\n",
    "        "
   ]
  },
  {
   "cell_type": "code",
   "execution_count": 31,
   "metadata": {},
   "outputs": [
    {
     "name": "stdout",
     "output_type": "stream",
     "text": [
      "===================\n",
      "\n",
      "===================\n",
      "4 - \n",
      "===================\n",
      "4 - bonjour - \n",
      "===================\n",
      "4 - bonjour - 1 - \n",
      "===================\n",
      "bonjour - 1 - \n",
      "===================\n",
      "1 - \n"
     ]
    }
   ],
   "source": [
    "#Exercice 3\n",
    "class Base(object):\n",
    "    def pop(self):\n",
    "        pass\n",
    "    def push(self, elt):\n",
    "        pass\n",
    "\n",
    "class pile(Base):\n",
    "    def __init__(self):\n",
    "        self.pile = list();\n",
    "\n",
    "        \n",
    "    def pop(self):\n",
    "        del self.pile[len(self.pile)-1]\n",
    "\n",
    "    def push(self, elt):\n",
    "        self.pile.append(elt)\n",
    "    \n",
    "    def affichage(self):\n",
    "        print(\"===================\")\n",
    "        for elt in  self.pile:\n",
    "             print(elt, end=' - ')\n",
    "        print()\n",
    "    \n",
    "#pile = pile()\n",
    "#pile.affichage()\n",
    "#pile.push(4);\n",
    "#pile.affichage()\n",
    "#pile.push(\"bonjour\");\n",
    "#pile.affichage()\n",
    "\n",
    "#pile.pop();\n",
    "#pile.affichage()\n",
    "    \n",
    "    \n",
    "class file(Base):\n",
    "    def __init__(self):\n",
    "        self.file = list();\n",
    "\n",
    "    def pop(self):\n",
    "        del self.file[0]\n",
    "\n",
    "    def push(self, elt):\n",
    "        self.file.append(elt)\n",
    "    \n",
    "    def affichage(self):\n",
    "        print(\"===================\")\n",
    "        for elt in  self.file:\n",
    "             print(elt, end=' - ')\n",
    "        print()\n",
    "                \n",
    "file = file()\n",
    "file.affichage()\n",
    "file.push(4);\n",
    "file.affichage()\n",
    "file.push(\"bonjour\");\n",
    "file.affichage()\n",
    "file.push(1);\n",
    "file.affichage()\n",
    "\n",
    "file.pop();\n",
    "file.affichage()\n",
    "file.pop();\n",
    "file.affichage()"
   ]
  },
  {
   "cell_type": "code",
   "execution_count": 29,
   "metadata": {},
   "outputs": [
    {
     "name": "stdout",
     "output_type": "stream",
     "text": [
      "5\n"
     ]
    }
   ],
   "source": [
    "#Exercice 4\n",
    "\n",
    "class methodeF:\n",
    "    def __init__(self, z, c):\n",
    "        self.z=z\n",
    "        self.c=c\n",
    "    \n",
    "    def calcule(self):\n",
    "        return self.z**2+self.c\n",
    "    \n",
    "test=methodeF(2,1)\n",
    "print(test.calcule())\n",
    "\n"
   ]
  },
  {
   "cell_type": "code",
   "execution_count": null,
   "metadata": {},
   "outputs": [],
   "source": []
  }
 ],
 "metadata": {
  "kernelspec": {
   "display_name": "Python 3",
   "language": "python",
   "name": "python3"
  },
  "language_info": {
   "codemirror_mode": {
    "name": "ipython",
    "version": 3
   },
   "file_extension": ".py",
   "mimetype": "text/x-python",
   "name": "python",
   "nbconvert_exporter": "python",
   "pygments_lexer": "ipython3",
   "version": "3.7.0"
  }
 },
 "nbformat": 4,
 "nbformat_minor": 2
}
